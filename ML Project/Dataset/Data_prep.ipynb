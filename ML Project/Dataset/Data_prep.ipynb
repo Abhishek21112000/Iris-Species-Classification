{
 "cells": [
  {
   "cell_type": "code",
   "execution_count": null,
   "metadata": {},
   "outputs": [],
   "source": [
    "import pandas as pd\n",
    "from sklearn.preprocessing import StandardScaler, MinMaxScaler\n",
    "from sklearn.datasets import load_iris\n",
    "import seaborn as sns\n",
    "import matplotlib.pyplot as plt\n",
    "\n",
    "# Load the Iris dataset\n",
    "iris = load_iris()\n",
    "df = pd.DataFrame(data=iris.data, columns=iris.feature_names)\n",
    "df['species'] = pd.Categorical.from_codes(iris.target, iris.target_names)\n",
    "\n",
    "# Standardization\n",
    "scaler_standard = StandardScaler()\n",
    "df_standardized = pd.DataFrame(scaler_standard.fit_transform(df.iloc[:, :-1]), columns=df.columns[:-1])\n",
    "df_standardized['species'] = df['species']\n",
    "\n",
    "# Normalization\n",
    "scaler_normalize = MinMaxScaler()\n",
    "df_normalized = pd.DataFrame(scaler_normalize.fit_transform(df.iloc[:, :-1]), columns=df.columns[:-1])\n",
    "df_normalized['species'] = df['species']\n",
    "\n",
    "# Visualize the standardized data\n",
    "sns.pairplot(df_standardized, hue=\"species\", markers=[\"o\", \"s\", \"D\"])\n",
    "plt.suptitle('Pairwise scatter plots of the standardized Iris features', verticalalignment='bottom')\n",
    "plt.show()\n",
    "\n",
    "# Visualize the normalized data\n",
    "sns.pairplot(df_normalized, hue=\"species\", markers=[\"o\", \"s\", \"D\"])\n",
    "plt.suptitle('Pairwise scatter plots of the normalized Iris features', verticalalignment='bottom')\n",
    "plt.show()\n"
   ]
  }
 ],
 "metadata": {
  "language_info": {
   "name": "python"
  }
 },
 "nbformat": 4,
 "nbformat_minor": 2
}
